{
 "cells": [
  {
   "cell_type": "code",
   "execution_count": 1,
   "id": "5e8fd57c",
   "metadata": {},
   "outputs": [],
   "source": [
    "import numpy as np\n",
    "import re\n",
    "import matplotlib.pyplot as plt"
   ]
  },
  {
   "cell_type": "code",
   "execution_count": 180,
   "id": "0dd4fb27",
   "metadata": {},
   "outputs": [],
   "source": [
    "#2?\n",
    "mass = []\n",
    "t1 = []\n",
    "t2 = []\n",
    "t3 = []\n",
    "t4 = []\n",
    "filename='f1-b.csv'\n",
    "datafile=open(filename,\"r\")"
   ]
  },
  {
   "cell_type": "code",
   "execution_count": 181,
   "id": "7d0bf543",
   "metadata": {},
   "outputs": [],
   "source": [
    "for line in datafile:\n",
    "    \n",
    "    if line.startswith('#'):\n",
    "        continue\n",
    "    \n",
    "    line1 = line.replace(':',',').split(',')\n",
    "    mass.append(float(line1[1]))\n",
    "    t1.append(float(line1[3]))\n",
    "    t2.append(float(line1[4]))    \n",
    "    t3.append(float(line1[5]))\n",
    "    t4.append(float(line1[6]))\n",
    "\n",
    "datafile.close()\n",
    "\n",
    "ta = []\n",
    "ta.append([t1[0],t2[0],t3[0],t4[0]])\n",
    "ta.append([t1[1],t2[1],t3[1],t4[1]])\n",
    "ta.append([t1[2],t2[2],t3[2],t4[2]])\n",
    "ta.append([t1[3],t2[3],t3[3],t4[3]])"
   ]
  },
  {
   "cell_type": "code",
   "execution_count": 182,
   "id": "8810daad",
   "metadata": {},
   "outputs": [],
   "source": [
    "x_vals = []  # This will hold all the x values (masses)\n",
    "y_vals = []  # This will hold all the y values (times)\n",
    "\n",
    "for i in range(len(masses)):\n",
    "    for a in ta[i]:\n",
    "        x_vals.append(masses[i])\n",
    "        y_vals.append(a)\n",
    "avgt = []       \n",
    "for i in range(len(ta)):\n",
    "    avgt.append(sum(ta[i]) / len(ta[i]))"
   ]
  },
  {
   "cell_type": "code",
   "execution_count": 185,
   "id": "0e3fda1c",
   "metadata": {},
   "outputs": [
    {
     "data": {
      "text/plain": [
       "<matplotlib.legend.Legend at 0x25a5f2098d0>"
      ]
     },
     "execution_count": 185,
     "metadata": {},
     "output_type": "execute_result"
    },
    {
     "data": {
      "image/png": "[encoded data removed]",
      "text/plain": [
       "<Figure size 640x480 with 1 Axes>"
      ]
     },
     "metadata": {},
     "output_type": "display_data"
    }
   ],
   "source": [
    "plt.scatter(x_vals, y_vals, facecolors='none', edgecolors='red', marker='o',label='Times(s)')\n",
    "plt.plot(masses, avgt, 'b--', label='Average Time')\n",
    "plt.xlabel('Mass (kg)')\n",
    "plt.ylabel('Time (s)')\n",
    "plt.grid(True)\n",
    "plt.legend()"
   ]
  },
  {
   "cell_type": "code",
   "execution_count": 186,
   "id": "b71e5832",
   "metadata": {},
   "outputs": [
    {
     "name": "stdout",
     "output_type": "stream",
     "text": [
      "['C:\\\\Users\\\\jcumm\\\\anaconda3\\\\Lib\\\\site-packages\\\\ipykernel_launcher.py', '-f', 'C:\\\\Users\\\\jcumm\\\\AppData\\\\Roaming\\\\jupyter\\\\runtime\\\\kernel-593e8ed5-255e-4573-a925-ae277d372eb2.json']\n",
      "solving equation 1.00 x^2 + 1.00 x + 5.00 = 0\n",
      "x1 =  (-0.5000000000000001-2.179449471770337j)\n",
      "x2 =  (-0.4999999999999999+2.179449471770337j)\n"
     ]
    }
   ],
   "source": [
    "import sys\n",
    "print(sys.argv)\n",
    "\n",
    "a=1\n",
    "b=1\n",
    "c=5\n",
    "x1 = (-1.0*b - (b*b-4.0*a*c)**0.5 )/(2.0*a)\n",
    "x2 = (-1.0*b + (b*b-4.0*a*c)**0.5 )/(2.0*a)\n",
    "print(\"solving equation %.2f x^2 + %.2f x + %.2f = 0\"%(a,b,c)) \n",
    "print(\"x1 = \",x1)\n",
    "print(\"x2 = \",x2)\n"
   ]
  },
  {
   "cell_type": "code",
   "execution_count": 189,
   "id": "36cb698c",
   "metadata": {},
   "outputs": [
    {
     "name": "stdout",
     "output_type": "stream",
     "text": [
      "simulation starts:\n",
      "t = 0.00e+00 (s)\tr = 6.44e+06 (m)\tv = 1.10e+04 (m/s)\n",
      "t = 6.00e+01 (s)\tr = 7.08e+06 (m)\tv = 1.04e+04 (m/s)\n",
      "t = 2.59e+05 (s)\tr = 2.55e+08 (m)\tv = -1.54e+02 (m/s)\n",
      "simulation ran out of time at t = 2.59e+05 (sec) = 72.0 (hours)\n"
     ]
    },
    {
     "ename": "NameError",
     "evalue": "name 'v0' is not defined",
     "output_type": "error",
     "traceback": [
      "\u001b[1;31m---------------------------------------------------------------------------\u001b[0m",
      "\u001b[1;31mNameError\u001b[0m                                 Traceback (most recent call last)",
      "Cell \u001b[1;32mIn[189], line 153\u001b[0m\n\u001b[0;32m    150\u001b[0m     plt\u001b[38;5;241m.\u001b[39msavefig(\u001b[38;5;124m\"\u001b[39m\u001b[38;5;124mverlet_ranger-r-v-plot.png\u001b[39m\u001b[38;5;124m\"\u001b[39m)\n\u001b[0;32m    151\u001b[0m     plt\u001b[38;5;241m.\u001b[39mclose()\n\u001b[1;32m--> 153\u001b[0m \u001b[38;5;28mprint\u001b[39m(\u001b[38;5;124m\"\u001b[39m\u001b[38;5;124mv0(m/s),\u001b[39m\u001b[38;5;132;01m%.4e\u001b[39;00m\u001b[38;5;124m,t2(s),\u001b[39m\u001b[38;5;132;01m%.4e\u001b[39;00m\u001b[38;5;124m,dt(s),\u001b[39m\u001b[38;5;132;01m%.4e\u001b[39;00m\u001b[38;5;124m,\u001b[39m\u001b[38;5;132;01m%s\u001b[39;00m\u001b[38;5;124m,\u001b[39m\u001b[38;5;124m\"\u001b[39m\u001b[38;5;241m%\u001b[39m(v0,t2,dt,stop_condition))\n",
      "\u001b[1;31mNameError\u001b[0m: name 'v0' is not defined"
     ]
    }
   ],
   "source": [
    "# Ranger 7 mission\n",
    "# Nathan Moore's work\n",
    "import math\n",
    "import numpy as np\n",
    "import matplotlib.pyplot as plt\n",
    "\n",
    "# constants\n",
    "G=6.67e-11 \n",
    "m_earth=5.98e24 # kg (Earth's mass)\n",
    "m_ranger= 10000 # kg (mass of rocket)\n",
    "m_moon=7.35e22 # kg (moon's mass)\n",
    "r_earth=6.388e6 # m (radius of Earth)\n",
    "r_moon_earth=3.844e8 # m (distance from Earth to moon)\n",
    "r_moon=1740e3 #m\n",
    "# determine the point of no return via gravitational force balance\n",
    "a=1.0-(m_moon/m_earth)\n",
    "b=-2.0*r_moon_earth\n",
    "c=r_moon_earth**2\n",
    "r_point_of_no_return = (-b-math.sqrt(b**2-4*a*c))/(2.0*a)\n",
    "\n",
    "#simulation parameters and controls\n",
    "t1=0\n",
    "dt=6.0e1 # (s)\n",
    "t_limit = 3*24*3600 # (s) \n",
    "r1 = r_earth + 50e3\n",
    "v1 = 11.0e3 # m/s velocity at engine flameout\n",
    "verbose_output = 1\n",
    "\n",
    "#############################\n",
    "# parse inputs from command-line\n",
    "# this could change the defaults (above)\n",
    "import sys\n",
    "for i in range(len(sys.argv)):\n",
    "    # look for keywords and set simulation variables if\n",
    "    # they are supplied.\n",
    "    if(sys.argv[i] == \"v0\") :\n",
    "        v0 = float(sys.argv[i+1])\n",
    "        v1=v0\n",
    "    if(sys.argv[i] == \"t_limit_seconds\") :\n",
    "        t_limit = float(sys.argv[i+1])\n",
    "    if(sys.argv[i] == \"t_limit_hours\") :\n",
    "        t_limit = float(sys.argv[i+1])*3600\n",
    "    if(sys.argv[i] == \"t_limit_days\") :\n",
    "        t_limit = float(sys.argv[i+1])*24*3600\n",
    "    if(sys.argv[i] == \"quiet_output\") :\n",
    "        verbose_output = 0\n",
    "\n",
    "# done parsing inputs\n",
    "##########################################\n",
    "\n",
    "def print_state(t,r,v):\n",
    "    print(\"t = %.2e (s)\\tr = %.2e (m)\\tv = %.2e (m/s)\"%(t,r,v))\n",
    "\n",
    "if(verbose_output==1) :\n",
    "    print(\"simulation starts:\")\n",
    "    print_state(t1,r1,v1)    \n",
    "\n",
    "# these are the lists of numbers I can't re-create when the simulation is done.  \n",
    "# saved for plotting after sim is done\n",
    "v_2s=[v1]\n",
    "r_2s=[r1]\n",
    "t_2s=[t1]\n",
    "\n",
    "# I'm using the \"Velocity-Verlet\" integrator so I need a second initial state points\n",
    "F1 = -G*m_earth*m_ranger/r1**2 + G*m_moon*m_ranger/(r_moon_earth-r1)**2\n",
    "a1 = F1/m_ranger\n",
    "v2 = v1 + a1*dt\n",
    "r2 = r1 + v1*dt + 0.5*a1*dt*dt\n",
    "t2 = t1 + dt\n",
    "\n",
    "if(verbose_output==1) :\n",
    "    print_state(t2,r2,v2)\n",
    "\n",
    "# repeat DiffEq solver procedure many many times to get an approximate model for the motion\n",
    "stop_simulation = 0\n",
    "passed_point_of_no_return=0\n",
    "while (stop_simulation == 0) :\n",
    "    \n",
    "    # compute force (i=2), based on (i=2) position (but not velocity, because Verlet...)\n",
    "    F2 = -G*m_earth*m_ranger/r2**2 + G*m_moon*m_ranger/(r_moon_earth-r2)**2\n",
    "    a2 = F2/m_ranger\n",
    "    \n",
    "    # apprimately solve differential equation over a very short time interval\n",
    "    # using the \"Velocity Verlet\" DEQ integrator\n",
    "    # r3 = new position, i+1\n",
    "    # r2 = current position, i\n",
    "    # r1 = old position, i-1\n",
    "    r3 = 2.0*r2 - r1 + a2*dt*dt\n",
    "    v2 = (r3 - r1)/(2.0*dt)\n",
    "\n",
    "    # store the current dynamic values\n",
    "    v_2s.append(v2)\n",
    "    r_2s.append(r2)\n",
    "    t_2s.append(t2)\n",
    "    \n",
    "    # update/recycle values for the next loop\n",
    "    r1 = r2\n",
    "    r2 = r3\n",
    "    t2 = t2 + dt\n",
    "\n",
    "    # checks to see if the simulation should keep going:\n",
    "    if( r2<r_earth ) :\n",
    "\n",
    "        if(verbose_output==1) :\n",
    "            print_state(t2,r2,v2)\n",
    "            print(\"rocket fell back to earth at t = %.2e (sec) = %.1f (hours)\"%(t2,t2/3600))\n",
    "        stop_simulation=1\n",
    "        stop_condition = \"fell_to_earth\"\n",
    "                \n",
    "    if( t2>t_limit) :\n",
    "        if(verbose_output==1) :\n",
    "            print_state(t2,r2,v2)\n",
    "            print(\"simulation ran out of time at t = %.2e (sec) = %.1f (hours)\"%(t2,t2/3600))\n",
    "        stop_simulation=1\n",
    "        stop_condition = \"ran_out_of_time\"\n",
    "    \n",
    "    if (passed_point_of_no_return==0 and r2>r_point_of_no_return ) :\n",
    "        passed_point_of_no_return=1\n",
    "        if(verbose_output==1) :\n",
    "            print_state(t2,r2,v2)\n",
    "            print(\"passed point of no return at t = %.2e (sec) = %.1f (hours)\"%(t2,t2/3600))\n",
    "\n",
    "    if( r2>(r_moon_earth-r_moon) ):\n",
    "        if(verbose_output==1) :\n",
    "            print_state(t2,r2,v2)\n",
    "            print(\"Ranger probe arrived at moon at  t = %.2e (sec) = %.1f (hours)\"%(t2,t2/3600))\n",
    "        stop_simulation=1\n",
    "        stop_condition = \"arrived_at_Luna\"\n",
    "\n",
    "############## simulation loop is over ##################\n",
    "\n",
    "# convert simulation data to numpy arrays\n",
    "t=np.array(t_2s)\n",
    "r=np.array(r_2s)\n",
    "v=np.array(v_2s)\n",
    "# and then create Force, KE, PE arrays\n",
    "F = -G*m_earth*m_ranger/r**2 + G*m_moon*m_ranger/(r_moon_earth-r)**2\n",
    "KE = 0.5*m_ranger*v**2\n",
    "PE = -G*m_earth*m_ranger/r + -G*m_moon*m_ranger/(r_moon_earth-r)\n",
    "\n",
    "if(verbose_output==1) :\n",
    "    # make some plots\n",
    "    plt.plot(r,v)\n",
    "    plt.title(\"Ranger 7, via Verlet DEQ Integrator, dt = %.2e (s)\"%dt)\n",
    "    plt.grid()\n",
    "    plt.xlabel(\"distance from Earth, r (m)\")\n",
    "    plt.ylabel(\"speed, v (m/s)\")\n",
    "    plt.tight_layout()\n",
    "    plt.savefig(\"verlet_ranger-r-v-plot.pdf\")\n",
    "    plt.savefig(\"verlet_ranger-r-v-plot.png\")\n",
    "    plt.close()\n",
    "\n",
    "print(\"v0(m/s),%.4e,t2(s),%.4e,dt(s),%.4e,%s,\"%(v0,t2,dt,stop_condition))\n"
   ]
  },
  {
   "cell_type": "code",
   "execution_count": null,
   "id": "6582cb2e",
   "metadata": {},
   "outputs": [],
   "source": []
  },
  {
   "cell_type": "code",
   "execution_count": null,
   "id": "b037e800",
   "metadata": {},
   "outputs": [],
   "source": []
  },
  {
   "cell_type": "code",
   "execution_count": null,
   "id": "24014d9e",
   "metadata": {},
   "outputs": [],
   "source": []
  },
  {
   "cell_type": "code",
   "execution_count": null,
   "id": "9c9f6c47",
   "metadata": {},
   "outputs": [],
   "source": []
  }
 ],
 "metadata": {
  "kernelspec": {
   "display_name": "Python 3 (ipykernel)",
   "language": "python",
   "name": "python3"
  },
  "language_info": {
   "codemirror_mode": {
    "name": "ipython",
    "version": 3
   },
   "file_extension": ".py",
   "mimetype": "text/x-python",
   "name": "python",
   "nbconvert_exporter": "python",
   "pygments_lexer": "ipython3",
   "version": "3.11.5"
  }
 },
 "nbformat": 4,
 "nbformat_minor": 5
}
